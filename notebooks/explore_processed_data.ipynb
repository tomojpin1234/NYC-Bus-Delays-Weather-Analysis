{
 "cells": [
  {
   "cell_type": "code",
   "execution_count": 1,
   "metadata": {},
   "outputs": [],
   "source": [
    "import pandas as pd\n",
    "import os"
   ]
  },
  {
   "cell_type": "code",
   "execution_count": 2,
   "metadata": {},
   "outputs": [
    {
     "name": "stdout",
     "output_type": "stream",
     "text": [
      "<class 'pandas.core.frame.DataFrame'>\n",
      "RangeIndex: 732663 entries, 0 to 732662\n",
      "Data columns (total 12 columns):\n",
      " #   Column                         Non-Null Count   Dtype   \n",
      "---  ------                         --------------   -----   \n",
      " 0   date                           732663 non-null  object  \n",
      " 1   Boro                           721387 non-null  object  \n",
      " 2   Bus_Company_Name               732663 non-null  object  \n",
      " 3   Reason                         732661 non-null  object  \n",
      " 4   How_Long_Delayed               667755 non-null  object  \n",
      " 5   Number_Of_Students_On_The_Bus  732663 non-null  int32   \n",
      " 6   temperature_2m_max             89847 non-null   float64 \n",
      " 7   temperature_2m_min             89847 non-null   float64 \n",
      " 8   precipitation_sum              89847 non-null   float64 \n",
      " 9   windspeed_10m_max              89847 non-null   float64 \n",
      " 10  year                           732663 non-null  category\n",
      " 11  month                          732663 non-null  category\n",
      "dtypes: category(2), float64(4), int32(1), object(5)\n",
      "memory usage: 54.5+ MB\n"
     ]
    },
    {
     "data": {
      "text/html": [
       "<div>\n",
       "<style scoped>\n",
       "    .dataframe tbody tr th:only-of-type {\n",
       "        vertical-align: middle;\n",
       "    }\n",
       "\n",
       "    .dataframe tbody tr th {\n",
       "        vertical-align: top;\n",
       "    }\n",
       "\n",
       "    .dataframe thead th {\n",
       "        text-align: right;\n",
       "    }\n",
       "</style>\n",
       "<table border=\"1\" class=\"dataframe\">\n",
       "  <thead>\n",
       "    <tr style=\"text-align: right;\">\n",
       "      <th></th>\n",
       "      <th>date</th>\n",
       "      <th>temperature_2m_max</th>\n",
       "      <th>Boro</th>\n",
       "    </tr>\n",
       "  </thead>\n",
       "  <tbody>\n",
       "    <tr>\n",
       "      <th>623566</th>\n",
       "      <td>2023-06-14</td>\n",
       "      <td>24.6</td>\n",
       "      <td>Brooklyn</td>\n",
       "    </tr>\n",
       "    <tr>\n",
       "      <th>605229</th>\n",
       "      <td>2023-04-03</td>\n",
       "      <td>13.3</td>\n",
       "      <td>Queens</td>\n",
       "    </tr>\n",
       "    <tr>\n",
       "      <th>183581</th>\n",
       "      <td>2018-01-31</td>\n",
       "      <td>NaN</td>\n",
       "      <td>None</td>\n",
       "    </tr>\n",
       "    <tr>\n",
       "      <th>653013</th>\n",
       "      <td>2024-10-28</td>\n",
       "      <td>NaN</td>\n",
       "      <td>Manhattan</td>\n",
       "    </tr>\n",
       "    <tr>\n",
       "      <th>433672</th>\n",
       "      <td>2021-11-15</td>\n",
       "      <td>NaN</td>\n",
       "      <td>Queens</td>\n",
       "    </tr>\n",
       "  </tbody>\n",
       "</table>\n",
       "</div>"
      ],
      "text/plain": [
       "              date  temperature_2m_max       Boro\n",
       "623566  2023-06-14                24.6   Brooklyn\n",
       "605229  2023-04-03                13.3     Queens\n",
       "183581  2018-01-31                 NaN       None\n",
       "653013  2024-10-28                 NaN  Manhattan\n",
       "433672  2021-11-15                 NaN     Queens"
      ]
     },
     "execution_count": 2,
     "metadata": {},
     "output_type": "execute_result"
    }
   ],
   "source": [
    "# Path to processed Parquet files\n",
    "base_path = \"../data/processed/bus_weather_joined\"\n",
    "\n",
    "# 🔁 Load all year/month partitions (or a sample)\n",
    "df = pd.read_parquet(base_path, engine=\"pyarrow\")\n",
    "\n",
    "# 🧪 Quick Checks\n",
    "df.head()\n",
    "\n",
    "# Column summary\n",
    "df.info()\n",
    "\n",
    "# Nulls in weather columns\n",
    "df[[\"temperature_2m_max\", \"precipitation_sum\"]].isnull().mean() * 100\n",
    "\n",
    "# Distribution of delays\n",
    "df[\"How_Long_Delayed\"].value_counts().head(10)\n",
    "\n",
    "# Merge sanity check\n",
    "df[[\"date\", \"temperature_2m_max\", \"Boro\"]].sample(5)"
   ]
  },
  {
   "cell_type": "code",
   "execution_count": 3,
   "metadata": {},
   "outputs": [
    {
     "data": {
      "text/plain": [
       "date\n",
       "2016-01-25    1221\n",
       "2018-11-13     978\n",
       "2017-03-15     923\n",
       "2019-01-31     909\n",
       "2019-01-22     898\n",
       "2016-01-26     896\n",
       "2019-02-25     888\n",
       "2018-11-15     871\n",
       "2017-02-10     865\n",
       "2017-10-30     864\n",
       "Name: count, dtype: int64"
      ]
     },
     "execution_count": 3,
     "metadata": {},
     "output_type": "execute_result"
    }
   ],
   "source": [
    "df[df[\"temperature_2m_max\"].isnull()][\"date\"].value_counts().head(10)"
   ]
  },
  {
   "cell_type": "code",
   "execution_count": 4,
   "metadata": {},
   "outputs": [
    {
     "data": {
      "text/plain": [
       "date\n",
       "2023-12-18    941\n",
       "2023-09-29    893\n",
       "2023-10-30    816\n",
       "2023-09-18    738\n",
       "2023-01-31    708\n",
       "2023-09-07    688\n",
       "2023-12-11    671\n",
       "2023-02-06    669\n",
       "2023-09-11    651\n",
       "2023-01-23    645\n",
       "Name: count, dtype: int64"
      ]
     },
     "execution_count": 4,
     "metadata": {},
     "output_type": "execute_result"
    }
   ],
   "source": [
    "df[df[\"temperature_2m_max\"].notnull()][\"date\"].value_counts().head(10)"
   ]
  }
 ],
 "metadata": {
  "kernelspec": {
   "display_name": "dataengineering2025-s0WBmAy2-py3.13",
   "language": "python",
   "name": "python3"
  },
  "language_info": {
   "codemirror_mode": {
    "name": "ipython",
    "version": 3
   },
   "file_extension": ".py",
   "mimetype": "text/x-python",
   "name": "python",
   "nbconvert_exporter": "python",
   "pygments_lexer": "ipython3",
   "version": "3.13.2"
  }
 },
 "nbformat": 4,
 "nbformat_minor": 2
}
